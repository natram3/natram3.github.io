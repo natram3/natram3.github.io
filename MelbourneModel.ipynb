{
 "cells": [
  {
   "cell_type": "code",
   "execution_count": 3,
   "id": "85bd06e2",
   "metadata": {},
   "outputs": [],
   "source": [
    "import cvxpy as cvx\n",
    "\n",
    "import numpy as np\n",
    "import pandas as pd\n",
    "import matplotlib.pyplot as plt\n",
    "import sys"
   ]
  },
  {
   "cell_type": "code",
   "execution_count": 9,
   "id": "83eed8da",
   "metadata": {
    "title": "Load data"
   },
   "outputs": [],
   "source": [
    "\n",
    "# Set path of your working directory - change yours here!\n",
    "dir = '/Users/nathanielramos/Documents/RMI/CEE 266F/266G'\n",
    "\n",
    "# Import data\n",
    "# All units in MCM\n",
    "data = pd.read_csv(dir + '/net_inflow.csv', header=None, names=['Year', 'Inflow'])\n",
    "data = data[data['Year']>=2000]\n",
    "pipeline = np.loadtxt(dir + '/pipeline_availability.csv', delimiter=',')\n",
    "demand = np.loadtxt(dir + '/demand.csv', delimiter=',')\n",
    "data['Pipeline'] = pipeline[:,1]\n",
    "data['Demand'] = demand[:,1]\n",
    "del demand, pipeline\n",
    "data = data.set_index('Year')\n",
    "\n",
    "# Parameters\n",
    "desalCapacity = 150 # [MCM]\n",
    "K = 1812 # reservoir capacity [MCM]\n",
    "K0 = 600 # initial storage capacity [MCM]\n",
    "minK = 580 # minimum storage level [MCM]\n",
    "KT = K0 # final storage capacity [MCM]\n",
    "pipelineCost = 0.28 * 10**6 # $ per MCM\n",
    "desalCost = 0.45 * 10**6 # $ per MCM"
   ]
  },
  {
   "cell_type": "code",
   "execution_count": 10,
   "id": "f43e28cb",
   "metadata": {
    "title": "Formulate Problem"
   },
   "outputs": [],
   "source": [
    "\n",
    "# Number of time periods\n",
    "T = 2015 - 2000 + 1\n",
    "years = np.arange(2000, 2016)\n",
    "\n",
    "# Create a vector S of storage decision variables for each time period\n",
    "S = cvx.Variable(T)\n",
    "\n",
    "# Create a vector R of releases each time period\n",
    "R = cvx.Variable(T)\n",
    "\n",
    "# Create a vector P of pipeline water imports in each t\n",
    "P = cvx.Variable(T)\n",
    "\n",
    "# Create a vector D of desal water imports in each t\n",
    "D = cvx.Variable(T)\n",
    "\n",
    "#slack & surplus variables\n",
    "x_1_slack = cvx.Variable(T)\n",
    "x_2_surplus = cvx.Variable(T)\n",
    "x_3_surplus = cvx.Variable(T)\n",
    "x_4_slack = cvx.Variable(T)\n",
    "x_5_slack = cvx.Variable(T)\n",
    "\n",
    "\n",
    "# Create  list of constraints\n",
    "constraints = []\n",
    "\n",
    "# Add initial storage constraint\n",
    "constraints += [S[0] == K0]\n",
    "#adding logical constraints?\n",
    "\n",
    "# Loop over time range and add constraints that apply in all time periods\n",
    "for t in range(T):\n",
    "\n",
    "    # Add water balance constraints\n",
    "    if t < T-1:\n",
    "        constraints += [\n",
    "            S[t + 1] == S[t] - R[t] + data['Inflow'].iloc[t] + P[t] + D[t]\n",
    "        ]\n",
    "    else:\n",
    "        # last time period\n",
    "        constraints += [\n",
    "            S[t] - R[t] + data['Inflow'].iloc[t] + P[t] + D[t] == KT\n",
    "        ]\n",
    "\n",
    "    # Add storage capacity constraints\n",
    "    constraints += [\n",
    "        S[t] + x_1_slack[t] == K,  # Storage can't be above capacity\n",
    "        S[t] + x_2_surplus[t] == minK # Storage can't go below minimum threshold\n",
    "    ]\n",
    "\n",
    "    # Add reliability constraints\n",
    "    constraints += [\n",
    "        R[t] + x_3_surplus[t] == data['Demand'].iloc[t]\n",
    "    ]\n",
    "\n",
    "    # Add pipeline and desal availability constraints\n",
    "    constraints += [\n",
    "        P[t] + x_4_slack[t] == data['Pipeline'].iloc[t],\n",
    "        D[t] + x_5_slack[t] == desalCapacity\n",
    "    ]\n",
    "\n",
    "    # Add non-negativity constraints\n",
    "    constraints += [\n",
    "        S[t] >= 0, R[t] >= 0, P[t] >= 0, D[t] >= 0, x_1_slack[t] >= 0,\n",
    "        x_2_surplus[t] <= 0, x_3_surplus[t] <= 0, x_4_slack[t] >= 0, x_5_slack[t] >= 0\n",
    "    ]\n",
    "# Create objective function\n",
    "objective = cvx.Minimize(cvx.sum(P) * pipelineCost +\n",
    "                         cvx.sum(D) * desalCost)\n",
    "# using cvx.sum bc p is weird class; it's a decision variable class"
   ]
  },
  {
   "cell_type": "code",
   "execution_count": 11,
   "id": "a0b2bf70",
   "metadata": {
    "title": "Solve LP"
   },
   "outputs": [
    {
     "name": "stdout",
     "output_type": "stream",
     "text": [
      "Solution status: optimal\n",
      "Optimal objective value: 633469999.9225835\n",
      "Optimal values of storage DVs: [ 600.          827.89112189  909.45942414  801.88382643 1014.73549094\n",
      " 1236.6275869  1227.82932517  861.30721867  796.12534607  597.57699233\n",
      "  580.00000001  747.2879833  1017.82827528 1286.00679235 1238.7863002\n",
      " 1194.36809574]\n",
      "Optimal values of release DVs: [517.99999998 547.99999998 569.99999998 529.99999998 529.99999998\n",
      " 556.99999998 607.99999998 559.99999998 578.99999998 560.99999998\n",
      " 518.         501.         495.         551.         549.\n",
      " 636.        ]\n",
      "Optimal values of pipeline DVs: [172.         189.         124.         218.99999999 229.\n",
      " 145.          65.00000001 107.00000001  79.00000001 163.99999997\n",
      " 126.28798327 137.54029198 105.17851706  87.77950784  83.58179553\n",
      "   5.63190426]\n",
      "Optimal values of desal DVs: [1.38911219e+01 1.45683022e+01 1.44244023e+01 1.48516645e+01\n",
      " 1.48920959e+01 1.42017383e+01 1.34778935e+01 1.38181274e+01\n",
      " 1.44516462e+01 1.04230077e+01 4.54810719e-09 5.40590657e-09\n",
      " 4.96264840e-09 3.04097167e-09 3.61928772e-09 3.15209692e-09]\n",
      "Optimal values of x_1_slack DVs: [1212.          984.10887811  902.54057586 1010.11617357  797.26450906\n",
      "  575.3724131   584.17067483  950.69278133 1015.87465393 1214.42300767\n",
      " 1231.99999999 1064.7120167   794.17172472  525.99320765  573.2136998\n",
      "  617.63190426]\n",
      "Optimal values of x_2_surplus DVs: [-2.00000000e+01 -2.47891122e+02 -3.29459424e+02 -2.21883826e+02\n",
      " -4.34735491e+02 -6.56627587e+02 -6.47829325e+02 -2.81307219e+02\n",
      " -2.16125346e+02 -1.75769923e+01 -1.78135295e-08 -1.67287983e+02\n",
      " -4.37828275e+02 -7.06006792e+02 -6.58786300e+02 -6.14368096e+02]\n",
      "Optimal values of x_3_surplus DVs: [1.51866541e-08 1.53214412e-08 1.50232925e-08 1.57214421e-08\n",
      " 1.57869977e-08 1.50479596e-08 1.51860510e-08 1.47288821e-08\n",
      " 1.48715594e-08 1.72916762e-08 5.42281170e-09 3.59747301e-09\n",
      " 4.11049379e-09 4.49821027e-09 3.55162131e-09 6.06186694e-09]\n",
      "Optimal values of x_4_slack DVs: [-2.14254899e-09  3.63142232e-10 -1.45437911e-09  8.41816096e-09\n",
      "  1.32735988e-09 -2.04481217e-09 -6.23104179e-09 -4.54722468e-09\n",
      " -4.86272922e-09  2.88100273e-08  7.37120167e+01  1.07459708e+02\n",
      "  8.88214829e+01  5.42204922e+01  3.54182045e+01  4.36809570e+00]\n",
      "Optimal values of x_5_slack DVs: [136.10887813 135.43169777 135.57559774 135.1483355  135.10790407\n",
      " 135.79826174 136.52210653 136.18187262 135.54835376 139.57699231\n",
      " 150.         149.99999999 149.99999999 150.         150.\n",
      " 150.        ]\n"
     ]
    },
    {
     "name": "stderr",
     "output_type": "stream",
     "text": [
      "/Users/nathanielramos/opt/anaconda3/lib/python3.9/site-packages/cvxpy/reductions/solvers/solving_chain.py:336: FutureWarning: \n",
      "    Your problem is being solved with the ECOS solver by default. Starting in \n",
      "    CVXPY 1.5.0, Clarabel will be used as the default solver instead. To continue \n",
      "    using ECOS, specify the ECOS solver explicitly using the ``solver=cp.ECOS`` \n",
      "    argument to the ``problem.solve`` method.\n",
      "    \n",
      "  warnings.warn(ECOS_DEPRECATION_MSG, FutureWarning)\n"
     ]
    }
   ],
   "source": [
    "prob = cvx.Problem(objective, constraints)\n",
    "prob.solve()\n",
    "print(\"Solution status: \" + prob.status)\n",
    "print(\"Optimal objective value: {}\".format(prob.objective.value))\n",
    "print(\"Optimal values of storage DVs: {}\".format(S.value))\n",
    "print(\"Optimal values of release DVs: {}\".format(R.value))\n",
    "print(\"Optimal values of pipeline DVs: {}\".format(P.value))\n",
    "print(\"Optimal values of desal DVs: {}\".format(D.value))\n",
    "print(\"Optimal values of x_1_slack DVs: {}\".format(x_1_slack.value))\n",
    "print(\"Optimal values of x_2_surplus DVs: {}\".format(x_2_surplus.value))\n",
    "print(\"Optimal values of x_3_surplus DVs: {}\".format(x_3_surplus.value))\n",
    "print(\"Optimal values of x_4_slack DVs: {}\".format(x_4_slack.value))\n",
    "print(\"Optimal values of x_5_slack DVs: {}\".format(x_5_slack.value))\n",
    "\n",
    "\n",
    "# Don't continue with analysis of results unless optimal solution found\n",
    "if(prob.status != 'optimal'):\n",
    "    sys.exit()"
   ]
  },
  {
   "cell_type": "code",
   "execution_count": 12,
   "id": "7ae01b68",
   "metadata": {
    "title": "Check and Plot Water Balance"
   },
   "outputs": [
    {
     "data": {
      "image/png": "[encoded data removed]",
      "text/plain": [
       "<Figure size 432x288 with 1 Axes>"
      ]
     },
     "metadata": {
      "needs_background": "light"
     },
     "output_type": "display_data"
    }
   ],
   "source": [
    "\n",
    "# Calculate water balance\n",
    "deltaS = np.diff(np.append(S.value, KT))\n",
    "supply = data['Inflow'] + P.value + D.value\n",
    "balance = deltaS - supply + R.value\n",
    "\n",
    "# Verify that water balance is zero\n",
    "if np.abs(sum(balance)) > 0.1:\n",
    "    raise Exception(\"Water balance does not sum to zero\")\n",
    "\n",
    "# Plot water supply and demand\n",
    "plt.figure()\n",
    "plt.bar(data.index, data['Inflow'], label='Net Inflows')\n",
    "plt.bar(data.index, P.value, label='Pipeline', bottom=data['Inflow'])\n",
    "plt.bar(data.index, D.value, label='Desalination', bottom=data['Inflow'] + P.value)\n",
    "plt.plot(data.index, R.value, 'k*-', label='Release')\n",
    "plt.plot(data.index, S.value, '*-', c='gray', label='Storage')\n",
    "plt.legend()\n",
    "plt.ylabel('MCM')\n",
    "plt.show()"
   ]
  }
 ],
 "metadata": {
  "jupytext": {
   "cell_metadata_filter": "title,-all",
   "main_language": "python",
   "notebook_metadata_filter": "-all"
  },
  "kernelspec": {
   "display_name": "Python 3 (ipykernel)",
   "language": "python",
   "name": "python3"
  },
  "language_info": {
   "codemirror_mode": {
    "name": "ipython",
    "version": 3
   },
   "file_extension": ".py",
   "mimetype": "text/x-python",
   "name": "python",
   "nbconvert_exporter": "python",
   "pygments_lexer": "ipython3",
   "version": "3.9.12"
  }
 },
 "nbformat": 4,
 "nbformat_minor": 5
}
